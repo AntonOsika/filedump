{
 "cells": [
  {
   "cell_type": "code",
   "execution_count": 4,
   "id": "afc0af6d",
   "metadata": {},
   "outputs": [],
   "source": [
    "import pandas as pd\n"
   ]
  },
  {
   "cell_type": "code",
   "execution_count": 5,
   "id": "dc9f7604",
   "metadata": {},
   "outputs": [
    {
     "data": {
      "text/plain": [
       "<function autovega.display_dataframe(df)>"
      ]
     },
     "execution_count": 5,
     "metadata": {},
     "output_type": "execute_result"
    }
   ],
   "source": [
    "import autovega\n",
    "autovega.register_renderer()\n"
   ]
  },
  {
   "cell_type": "code",
   "execution_count": 7,
   "id": "1becb0a2",
   "metadata": {},
   "outputs": [
    {
     "data": {
      "application/vnd.jupyter.widget-view+json": {
       "model_id": "fc2440c5b8cd47828084b316465e07e7",
       "version_major": 2,
       "version_minor": 0
      },
      "text/plain": [
       "AutoVega(children=(ToggleButtons(options=('Table', 'Scatter', 'Line', 'Bar'), value='Table'), Output()))"
      ]
     },
     "metadata": {},
     "output_type": "display_data"
    }
   ],
   "source": [
    "df = pd.read_csv('/Users/anton/Downloads/ManicTimeData_2022-02-05.csv', sep=',')\n",
    "\n",
    "df.head()"
   ]
  },
  {
   "cell_type": "code",
   "execution_count": 13,
   "id": "e36410bd",
   "metadata": {},
   "outputs": [],
   "source": [
    "df['Start'] = pd.to_datetime(df.Start)\n",
    "df['End'] = pd.to_datetime(df.End)\n",
    "df['Duration'] = pd.to_timedelta(df.Duration)"
   ]
  },
  {
   "cell_type": "code",
   "execution_count": 34,
   "id": "4e885b91",
   "metadata": {},
   "outputs": [],
   "source": [
    "entries = []\n",
    "for r in df.itertuples():\n",
    "    tags = r.Name.split(', ')\n",
    "    for t in tags:\n",
    "        entries.append(\n",
    "            (r.Start, t, r.Duration.total_seconds()/len(tags))\n",
    "        )"
   ]
  },
  {
   "cell_type": "code",
   "execution_count": 36,
   "id": "6d22c034",
   "metadata": {},
   "outputs": [],
   "source": [
    "by_tags = pd.DataFrame(entries, columns='start tag duration(s)'.split())"
   ]
  },
  {
   "cell_type": "code",
   "execution_count": 37,
   "id": "a9f68d5e",
   "metadata": {},
   "outputs": [],
   "source": [
    "import altair as alt"
   ]
  },
  {
   "cell_type": "code",
   "execution_count": 42,
   "id": "874fbd67",
   "metadata": {},
   "outputs": [
    {
     "data": {
      "text/plain": [
       "tag\n",
       "lawyer                   93.0\n",
       "meeting                 271.0\n",
       "rest                    478.0\n",
       "social messaging        753.0\n",
       "recruiter call         1305.0\n",
       "contractor admin       1690.0\n",
       "standup                1728.0\n",
       "investors              2222.0\n",
       "lunch and learn        2545.5\n",
       "slack                  2610.5\n",
       "personal errand        2884.5\n",
       "recruiting lunch       3188.0\n",
       "walk                   3268.0\n",
       "housing                3452.0\n",
       "social                 3822.5\n",
       "teambuilding           3822.5\n",
       "meeting prep           4141.0\n",
       "toilet                 4331.0\n",
       "recruiting             5704.5\n",
       "operations             5865.5\n",
       "recruiting meeting     7134.0\n",
       "hr                     7533.0\n",
       "lunch                 10507.5\n",
       "friends               13414.0\n",
       "exercise              45454.0\n",
       "sleep                 46334.0\n",
       "Name: duration(s), dtype: float64"
      ]
     },
     "execution_count": 42,
     "metadata": {},
     "output_type": "execute_result"
    }
   ],
   "source": [
    "by_tags.groupby('tag')['duration(s)'].sum().sort_values()"
   ]
  },
  {
   "cell_type": "code",
   "execution_count": 46,
   "id": "92a85e1d",
   "metadata": {},
   "outputs": [
    {
     "data": {
      "text/html": [
       "\n",
       "<div id=\"altair-viz-a44c5ba616eb4b0883944437f0a5389c\"></div>\n",
       "<script type=\"text/javascript\">\n",
       "  (function(spec, embedOpt){\n",
       "    let outputDiv = document.currentScript.previousElementSibling;\n",
       "    if (outputDiv.id !== \"altair-viz-a44c5ba616eb4b0883944437f0a5389c\") {\n",
       "      outputDiv = document.getElementById(\"altair-viz-a44c5ba616eb4b0883944437f0a5389c\");\n",
       "    }\n",
       "    const paths = {\n",
       "      \"vega\": \"https://cdn.jsdelivr.net/npm//vega@5?noext\",\n",
       "      \"vega-lib\": \"https://cdn.jsdelivr.net/npm//vega-lib?noext\",\n",
       "      \"vega-lite\": \"https://cdn.jsdelivr.net/npm//vega-lite@4.8.1?noext\",\n",
       "      \"vega-embed\": \"https://cdn.jsdelivr.net/npm//vega-embed@6?noext\",\n",
       "    };\n",
       "\n",
       "    function loadScript(lib) {\n",
       "      return new Promise(function(resolve, reject) {\n",
       "        var s = document.createElement('script');\n",
       "        s.src = paths[lib];\n",
       "        s.async = true;\n",
       "        s.onload = () => resolve(paths[lib]);\n",
       "        s.onerror = () => reject(`Error loading script: ${paths[lib]}`);\n",
       "        document.getElementsByTagName(\"head\")[0].appendChild(s);\n",
       "      });\n",
       "    }\n",
       "\n",
       "    function showError(err) {\n",
       "      outputDiv.innerHTML = `<div class=\"error\" style=\"color:red;\">${err}</div>`;\n",
       "      throw err;\n",
       "    }\n",
       "\n",
       "    function displayChart(vegaEmbed) {\n",
       "      vegaEmbed(outputDiv, spec, embedOpt)\n",
       "        .catch(err => showError(`Javascript Error: ${err.message}<br>This usually means there's a typo in your chart specification. See the javascript console for the full traceback.`));\n",
       "    }\n",
       "\n",
       "    if(typeof define === \"function\" && define.amd) {\n",
       "      requirejs.config({paths});\n",
       "      require([\"vega-embed\"], displayChart, err => showError(`Error loading script: ${err.message}`));\n",
       "    } else if (typeof vegaEmbed === \"function\") {\n",
       "      displayChart(vegaEmbed);\n",
       "    } else {\n",
       "      loadScript(\"vega\")\n",
       "        .then(() => loadScript(\"vega-lite\"))\n",
       "        .then(() => loadScript(\"vega-embed\"))\n",
       "        .catch(showError)\n",
       "        .then(() => displayChart(vegaEmbed));\n",
       "    }\n",
       "  })({\"config\": {\"view\": {\"continuousWidth\": 400, \"continuousHeight\": 300}}, \"data\": {\"name\": \"data-0cfbb876e3e9d929906c90925341c76a\"}, \"mark\": \"bar\", \"encoding\": {\"color\": {\"type\": \"nominal\", \"field\": \"tag\"}, \"order\": {\"type\": \"nominal\", \"field\": \"tag\", \"sort\": \"ascending\"}, \"x\": {\"type\": \"temporal\", \"bin\": true, \"field\": \"start\"}, \"y\": {\"type\": \"quantitative\", \"aggregate\": \"sum\", \"field\": \"duration(s)\"}}, \"$schema\": \"https://vega.github.io/schema/vega-lite/v4.8.1.json\", \"datasets\": {\"data-0cfbb876e3e9d929906c90925341c76a\": [{\"start\": \"2022-01-18T03:56:36\", \"tag\": \"rest\", \"duration(s)\": 478.0}, {\"start\": \"2022-01-18T04:45:34\", \"tag\": \"sleep\", \"duration(s)\": 16336.0}, {\"start\": \"2022-01-18T09:59:41\", \"tag\": \"lawyer\", \"duration(s)\": 93.0}, {\"start\": \"2022-01-18T10:13:35\", \"tag\": \"meeting prep\", \"duration(s)\": 54.0}, {\"start\": \"2022-01-18T11:13:09\", \"tag\": \"recruiter call\", \"duration(s)\": 1305.0}, {\"start\": \"2022-01-18T11:54:42\", \"tag\": \"lunch\", \"duration(s)\": 2969.5}, {\"start\": \"2022-01-18T11:54:42\", \"tag\": \"exercise\", \"duration(s)\": 2969.5}, {\"start\": \"2022-01-18T16:29:16\", \"tag\": \"personal errand\", \"duration(s)\": 274.0}, {\"start\": \"2022-01-18T16:37:14\", \"tag\": \"personal errand\", \"duration(s)\": 2610.5}, {\"start\": \"2022-01-18T16:37:14\", \"tag\": \"slack\", \"duration(s)\": 2610.5}, {\"start\": \"2022-01-19T00:10:58\", \"tag\": \"sleep\", \"duration(s)\": 29998.0}, {\"start\": \"2022-01-19T09:32:01\", \"tag\": \"standup\", \"duration(s)\": 1728.0}, {\"start\": \"2022-01-19T11:01:38\", \"tag\": \"toilet\", \"duration(s)\": 753.0}, {\"start\": \"2022-01-19T11:01:38\", \"tag\": \"social messaging\", \"duration(s)\": 753.0}, {\"start\": \"2022-01-19T11:56:47\", \"tag\": \"recruiting lunch\", \"duration(s)\": 3188.0}, {\"start\": \"2022-01-19T11:56:47\", \"tag\": \"recruiting meeting\", \"duration(s)\": 3188.0}, {\"start\": \"2022-01-19T15:32:49\", \"tag\": \"walk\", \"duration(s)\": 1169.0}, {\"start\": \"2022-01-19T15:59:26\", \"tag\": \"meeting prep\", \"duration(s)\": 53.0}, {\"start\": \"2022-01-19T16:51:55\", \"tag\": \"meeting prep\", \"duration(s)\": 549.0}, {\"start\": \"2022-01-20T11:07:48\", \"tag\": \"meeting prep\", \"duration(s)\": 57.0}, {\"start\": \"2022-01-20T11:11:15\", \"tag\": \"walk\", \"duration(s)\": 1221.0}, {\"start\": \"2022-01-20T11:48:54\", \"tag\": \"lunch\", \"duration(s)\": 878.0}, {\"start\": \"2022-01-20T11:48:54\", \"tag\": \"walk\", \"duration(s)\": 878.0}, {\"start\": \"2022-01-20T12:35:21\", \"tag\": \"lunch\", \"duration(s)\": 140.0}, {\"start\": \"2022-01-20T14:02:43\", \"tag\": \"meeting prep\", \"duration(s)\": 430.0}, {\"start\": \"2022-01-20T15:31:34\", \"tag\": \"exercise\", \"duration(s)\": 1639.0}, {\"start\": \"2022-01-20T15:31:34\", \"tag\": \"meeting prep\", \"duration(s)\": 1639.0}, {\"start\": \"2022-01-21T10:58:18\", \"tag\": \"toilet\", \"duration(s)\": 361.0}, {\"start\": \"2022-01-21T12:05:19\", \"tag\": \"lunch and learn\", \"duration(s)\": 2545.5}, {\"start\": \"2022-01-21T12:05:19\", \"tag\": \"operations\", \"duration(s)\": 2545.5}, {\"start\": \"2022-01-21T14:20:00\", \"tag\": \"exercise\", \"duration(s)\": 3406.0}, {\"start\": \"2022-01-21T16:11:37\", \"tag\": \"meeting prep\", \"duration(s)\": 522.0}, {\"start\": \"2022-01-21T16:27:45\", \"tag\": \"meeting prep\", \"duration(s)\": 202.0}, {\"start\": \"2022-01-21T17:29:17\", \"tag\": \"meeting prep\", \"duration(s)\": 271.0}, {\"start\": \"2022-01-21T17:56:57\", \"tag\": \"investors\", \"duration(s)\": 2222.0}, {\"start\": \"2022-01-21T18:39:19\", \"tag\": \"recruiting meeting\", \"duration(s)\": 776.0}, {\"start\": \"2022-01-23T10:01:12\", \"tag\": \"exercise\", \"duration(s)\": 1893.0}, {\"start\": \"2022-01-23T11:59:54\", \"tag\": \"lunch\", \"duration(s)\": 3170.0}, {\"start\": \"2022-01-23T11:59:54\", \"tag\": \"recruiting meeting\", \"duration(s)\": 3170.0}, {\"start\": \"2022-01-23T11:59:54\", \"tag\": \"friends\", \"duration(s)\": 3170.0}, {\"start\": \"2022-01-23T15:50:11\", \"tag\": \"friends\", \"duration(s)\": 957.0}, {\"start\": \"2022-01-23T17:29:38\", \"tag\": \"meeting prep\", \"duration(s)\": 364.0}, {\"start\": \"2022-01-23T20:29:43\", \"tag\": \"contractor admin\", \"duration(s)\": 1690.0}, {\"start\": \"2022-01-24T15:34:28\", \"tag\": \"toilet\", \"duration(s)\": 489.0}, {\"start\": \"2022-01-24T18:19:09\", \"tag\": \"toilet\", \"duration(s)\": 729.0}, {\"start\": \"2022-01-24T19:34:57\", \"tag\": \"exercise\", \"duration(s)\": 3452.0}, {\"start\": \"2022-01-24T19:34:57\", \"tag\": \"housing\", \"duration(s)\": 3452.0}, {\"start\": \"2022-01-25T09:36:59\", \"tag\": \"exercise\", \"duration(s)\": 2507.0}, {\"start\": \"2022-01-25T10:38:15\", \"tag\": \"meeting\", \"duration(s)\": 271.0}, {\"start\": \"2022-01-25T11:03:11\", \"tag\": \"operations\", \"duration(s)\": 3320.0}, {\"start\": \"2022-01-25T12:06:52\", \"tag\": \"exercise\", \"duration(s)\": 3386.0}, {\"start\": \"2022-01-25T13:06:14\", \"tag\": \"lunch\", \"duration(s)\": 361.0}, {\"start\": \"2022-01-25T18:54:51\", \"tag\": \"exercise\", \"duration(s)\": 3745.0}, {\"start\": \"2022-01-26T11:46:08\", \"tag\": \"exercise\", \"duration(s)\": 2715.5}, {\"start\": \"2022-01-26T11:46:08\", \"tag\": \"recruiting\", \"duration(s)\": 2715.5}, {\"start\": \"2022-01-26T17:39:36\", \"tag\": \"hr\", \"duration(s)\": 5687.0}, {\"start\": \"2022-01-27T09:08:53\", \"tag\": \"toilet\", \"duration(s)\": 432.0}, {\"start\": \"2022-01-27T09:34:42\", \"tag\": \"exercise\", \"duration(s)\": 2296.0}, {\"start\": \"2022-01-27T11:59:59\", \"tag\": \"exercise\", \"duration(s)\": 1416.0}, {\"start\": \"2022-01-27T17:59:26\", \"tag\": \"exercise\", \"duration(s)\": 11071.0}, {\"start\": \"2022-01-28T13:13:59\", \"tag\": \"hr\", \"duration(s)\": 1846.0}, {\"start\": \"2022-01-30T10:05:16\", \"tag\": \"friends\", \"duration(s)\": 9287.0}, {\"start\": \"2022-01-30T15:30:21\", \"tag\": \"toilet\", \"duration(s)\": 226.0}, {\"start\": \"2022-02-01T09:18:37\", \"tag\": \"exercise\", \"duration(s)\": 654.0}, {\"start\": \"2022-02-01T11:31:14\", \"tag\": \"lunch\", \"duration(s)\": 2989.0}, {\"start\": \"2022-02-01T11:31:14\", \"tag\": \"recruiting\", \"duration(s)\": 2989.0}, {\"start\": \"2022-02-02T17:02:54\", \"tag\": \"social\", \"duration(s)\": 3822.5}, {\"start\": \"2022-02-02T17:02:54\", \"tag\": \"teambuilding\", \"duration(s)\": 3822.5}, {\"start\": \"2022-02-03T20:52:31\", \"tag\": \"exercise\", \"duration(s)\": 4304.0}, {\"start\": \"2022-02-04T08:55:11\", \"tag\": \"toilet\", \"duration(s)\": 813.0}, {\"start\": \"2022-02-05T10:49:00\", \"tag\": \"toilet\", \"duration(s)\": 528.0}]}}, {\"mode\": \"vega-lite\"});\n",
       "</script>"
      ],
      "text/plain": [
       "alt.Chart(...)"
      ]
     },
     "execution_count": 46,
     "metadata": {},
     "output_type": "execute_result"
    }
   ],
   "source": [
    "alt.Chart(by_tags).mark_bar().encode(\n",
    "    alt.X('start', bin=True, type='temporal'),\n",
    "#     y='sum(duration(s))'\n",
    "    alt.Y('duration(s)', aggregate='sum', type='quantitative'),\n",
    "    color='tag:N',\n",
    "    order=alt.Order(\"tag\", sort=\"ascending\")\n",
    ")"
   ]
  },
  {
   "cell_type": "code",
   "execution_count": null,
   "id": "8b91fbdd",
   "metadata": {},
   "outputs": [],
   "source": []
  }
 ],
 "metadata": {
  "kernelspec": {
   "display_name": "Python 3",
   "language": "python",
   "name": "python3"
  },
  "language_info": {
   "codemirror_mode": {
    "name": "ipython",
    "version": 3
   },
   "file_extension": ".py",
   "mimetype": "text/x-python",
   "name": "python",
   "nbconvert_exporter": "python",
   "pygments_lexer": "ipython3",
   "version": "3.9.10"
  }
 },
 "nbformat": 4,
 "nbformat_minor": 5
}
